{
 "cells": [
  {
   "cell_type": "code",
   "execution_count": 1,
   "id": "832d4e41",
   "metadata": {
    "ExecuteTime": {
     "end_time": "2022-11-07T07:58:35.488081Z",
     "start_time": "2022-11-07T07:58:33.313778Z"
    }
   },
   "outputs": [],
   "source": [
    "from deepar.dataset.time_series import TimeSeriesTrain, TimeSeriesTest\n",
    "from deepar.model.learner import DeepARLearner\n",
    "import numpy as np\n",
    "import os\n",
    "import warnings\n",
    "warnings.simplefilter(action='ignore', category=FutureWarning)"
   ]
  },
  {
   "cell_type": "code",
   "execution_count": 2,
   "id": "037e35bf",
   "metadata": {
    "ExecuteTime": {
     "end_time": "2022-11-07T07:58:35.523713Z",
     "start_time": "2022-11-07T07:58:35.489423Z"
    }
   },
   "outputs": [],
   "source": [
    "%load_ext autoreload\n",
    "%autoreload 2"
   ]
  },
  {
   "cell_type": "code",
   "execution_count": 3,
   "id": "82f1c8f6",
   "metadata": {
    "ExecuteTime": {
     "end_time": "2022-11-07T07:58:35.559688Z",
     "start_time": "2022-11-07T07:58:35.524565Z"
    }
   },
   "outputs": [],
   "source": [
    "import pandas as pd\n",
    "sunspots_df = pd.read_csv('train_data/learningData.csv').reset_index(drop=True)\n",
    "sunspots_df['year'] = pd.to_datetime(np.cumsum(sunspots_df['year']), unit='s')\n",
    "# sunspots_df = pd.read_csv('../datasets/seed_datasets_current/56_sunspots/TRAIN/dataset_TRAIN/tables/learningData.csv')\n",
    "# sunspots_df['year'] = pd.to_timedelta(pd.to_datetime(sunspots_df['year'], format='%Y')).dt.total_seconds()\n",
    "# sunspots_df['year'] = pd.to_datetime(np.cumsum(sunspots_df['year']), unit='s')\n",
    "# sunspots_ds_one = TimeSeriesTrain(sunspots_df, target_idx = 4, timestamp_idx = 1, index_col=0,count_data=False)"
   ]
  },
  {
   "cell_type": "code",
   "execution_count": 4,
   "id": "b7f51e19",
   "metadata": {
    "ExecuteTime": {
     "end_time": "2022-11-07T07:58:35.594152Z",
     "start_time": "2022-11-07T07:58:35.560626Z"
    }
   },
   "outputs": [],
   "source": [
    "sunspots_df['series'] = '1'"
   ]
  },
  {
   "cell_type": "code",
   "execution_count": 5,
   "id": "d3896bcd",
   "metadata": {
    "ExecuteTime": {
     "end_time": "2022-11-07T07:58:35.637096Z",
     "start_time": "2022-11-07T07:58:35.596875Z"
    }
   },
   "outputs": [
    {
     "data": {
      "text/html": [
       "<div>\n",
       "<style scoped>\n",
       "    .dataframe tbody tr th:only-of-type {\n",
       "        vertical-align: middle;\n",
       "    }\n",
       "\n",
       "    .dataframe tbody tr th {\n",
       "        vertical-align: top;\n",
       "    }\n",
       "\n",
       "    .dataframe thead th {\n",
       "        text-align: right;\n",
       "    }\n",
       "</style>\n",
       "<table border=\"1\" class=\"dataframe\">\n",
       "  <thead>\n",
       "    <tr style=\"text-align: right;\">\n",
       "      <th></th>\n",
       "      <th>d3mIndex</th>\n",
       "      <th>year</th>\n",
       "      <th>sd</th>\n",
       "      <th>observations</th>\n",
       "      <th>sunspots</th>\n",
       "      <th>series</th>\n",
       "    </tr>\n",
       "  </thead>\n",
       "  <tbody>\n",
       "    <tr>\n",
       "      <th>0</th>\n",
       "      <td>0</td>\n",
       "      <td>1970-01-01 00:00:01</td>\n",
       "      <td>9.2</td>\n",
       "      <td>213</td>\n",
       "      <td>53</td>\n",
       "      <td>1</td>\n",
       "    </tr>\n",
       "    <tr>\n",
       "      <th>1</th>\n",
       "      <td>1</td>\n",
       "      <td>1970-01-01 00:00:02</td>\n",
       "      <td>7.9</td>\n",
       "      <td>249</td>\n",
       "      <td>39</td>\n",
       "      <td>1</td>\n",
       "    </tr>\n",
       "    <tr>\n",
       "      <th>2</th>\n",
       "      <td>2</td>\n",
       "      <td>1970-01-01 00:00:03</td>\n",
       "      <td>6.4</td>\n",
       "      <td>224</td>\n",
       "      <td>24</td>\n",
       "      <td>1</td>\n",
       "    </tr>\n",
       "    <tr>\n",
       "      <th>3</th>\n",
       "      <td>3</td>\n",
       "      <td>1970-01-01 00:00:04</td>\n",
       "      <td>4.2</td>\n",
       "      <td>304</td>\n",
       "      <td>9</td>\n",
       "      <td>1</td>\n",
       "    </tr>\n",
       "    <tr>\n",
       "      <th>4</th>\n",
       "      <td>4</td>\n",
       "      <td>1970-01-01 00:00:05</td>\n",
       "      <td>3.7</td>\n",
       "      <td>353</td>\n",
       "      <td>6</td>\n",
       "      <td>1</td>\n",
       "    </tr>\n",
       "    <tr>\n",
       "      <th>...</th>\n",
       "      <td>...</td>\n",
       "      <td>...</td>\n",
       "      <td>...</td>\n",
       "      <td>...</td>\n",
       "      <td>...</td>\n",
       "      <td>...</td>\n",
       "    </tr>\n",
       "    <tr>\n",
       "      <th>196</th>\n",
       "      <td>196</td>\n",
       "      <td>1970-01-01 00:03:17</td>\n",
       "      <td>8.0</td>\n",
       "      <td>5273</td>\n",
       "      <td>113</td>\n",
       "      <td>1</td>\n",
       "    </tr>\n",
       "    <tr>\n",
       "      <th>197</th>\n",
       "      <td>197</td>\n",
       "      <td>1970-01-01 00:03:18</td>\n",
       "      <td>6.4</td>\n",
       "      <td>8903</td>\n",
       "      <td>70</td>\n",
       "      <td>1</td>\n",
       "    </tr>\n",
       "    <tr>\n",
       "      <th>198</th>\n",
       "      <td>198</td>\n",
       "      <td>1970-01-01 00:03:19</td>\n",
       "      <td>3.9</td>\n",
       "      <td>9940</td>\n",
       "      <td>40</td>\n",
       "      <td>1</td>\n",
       "    </tr>\n",
       "    <tr>\n",
       "      <th>199</th>\n",
       "      <td>199</td>\n",
       "      <td>1970-01-01 00:03:20</td>\n",
       "      <td>2.5</td>\n",
       "      <td>11444</td>\n",
       "      <td>22</td>\n",
       "      <td>1</td>\n",
       "    </tr>\n",
       "    <tr>\n",
       "      <th>200</th>\n",
       "      <td>200</td>\n",
       "      <td>1970-01-01 00:03:21</td>\n",
       "      <td>1.1</td>\n",
       "      <td>12250</td>\n",
       "      <td>7</td>\n",
       "      <td>1</td>\n",
       "    </tr>\n",
       "  </tbody>\n",
       "</table>\n",
       "<p>201 rows × 6 columns</p>\n",
       "</div>"
      ],
      "text/plain": [
       "     d3mIndex                year   sd  observations  sunspots series\n",
       "0           0 1970-01-01 00:00:01  9.2           213        53      1\n",
       "1           1 1970-01-01 00:00:02  7.9           249        39      1\n",
       "2           2 1970-01-01 00:00:03  6.4           224        24      1\n",
       "3           3 1970-01-01 00:00:04  4.2           304         9      1\n",
       "4           4 1970-01-01 00:00:05  3.7           353         6      1\n",
       "..        ...                 ...  ...           ...       ...    ...\n",
       "196       196 1970-01-01 00:03:17  8.0          5273       113      1\n",
       "197       197 1970-01-01 00:03:18  6.4          8903        70      1\n",
       "198       198 1970-01-01 00:03:19  3.9          9940        40      1\n",
       "199       199 1970-01-01 00:03:20  2.5         11444        22      1\n",
       "200       200 1970-01-01 00:03:21  1.1         12250         7      1\n",
       "\n",
       "[201 rows x 6 columns]"
      ]
     },
     "execution_count": 5,
     "metadata": {},
     "output_type": "execute_result"
    }
   ],
   "source": [
    "sunspots_df"
   ]
  },
  {
   "cell_type": "code",
   "execution_count": 6,
   "id": "1f9cbb71",
   "metadata": {
    "ExecuteTime": {
     "end_time": "2022-11-07T07:58:35.682183Z",
     "start_time": "2022-11-07T07:58:35.638042Z"
    }
   },
   "outputs": [],
   "source": [
    "sunspots_ds_one = TimeSeriesTrain(sunspots_df, grouping_idx=5, target_idx = 4, timestamp_idx = 1, index_col=0)"
   ]
  },
  {
   "cell_type": "code",
   "execution_count": 7,
   "id": "f6d12844",
   "metadata": {
    "ExecuteTime": {
     "end_time": "2022-11-07T07:58:35.725387Z",
     "start_time": "2022-11-07T07:58:35.683222Z"
    }
   },
   "outputs": [
    {
     "data": {
      "text/html": [
       "<div>\n",
       "<style scoped>\n",
       "    .dataframe tbody tr th:only-of-type {\n",
       "        vertical-align: middle;\n",
       "    }\n",
       "\n",
       "    .dataframe tbody tr th {\n",
       "        vertical-align: top;\n",
       "    }\n",
       "\n",
       "    .dataframe thead th {\n",
       "        text-align: right;\n",
       "    }\n",
       "</style>\n",
       "<table border=\"1\" class=\"dataframe\">\n",
       "  <thead>\n",
       "    <tr style=\"text-align: right;\">\n",
       "      <th></th>\n",
       "      <th>year</th>\n",
       "      <th>sd</th>\n",
       "      <th>observations</th>\n",
       "      <th>target</th>\n",
       "      <th>series</th>\n",
       "      <th>_hour_of_day</th>\n",
       "      <th>_day_of_week</th>\n",
       "      <th>_day_of_month</th>\n",
       "      <th>_day_of_year</th>\n",
       "      <th>_week_of_year</th>\n",
       "      <th>_month_of_year</th>\n",
       "      <th>_year</th>\n",
       "      <th>_age</th>\n",
       "    </tr>\n",
       "  </thead>\n",
       "  <tbody>\n",
       "    <tr>\n",
       "      <th>0</th>\n",
       "      <td>1970-01-01 00:00:01</td>\n",
       "      <td>-2.071737</td>\n",
       "      <td>-2.812240</td>\n",
       "      <td>53</td>\n",
       "      <td>0</td>\n",
       "      <td>0.0</td>\n",
       "      <td>0.0</td>\n",
       "      <td>0.0</td>\n",
       "      <td>0.0</td>\n",
       "      <td>0.0</td>\n",
       "      <td>0.0</td>\n",
       "      <td>0.0</td>\n",
       "      <td>-1.721326</td>\n",
       "    </tr>\n",
       "    <tr>\n",
       "      <th>1</th>\n",
       "      <td>1970-01-01 00:00:02</td>\n",
       "      <td>-2.158056</td>\n",
       "      <td>-2.045698</td>\n",
       "      <td>39</td>\n",
       "      <td>0</td>\n",
       "      <td>0.0</td>\n",
       "      <td>0.0</td>\n",
       "      <td>0.0</td>\n",
       "      <td>0.0</td>\n",
       "      <td>0.0</td>\n",
       "      <td>0.0</td>\n",
       "      <td>0.0</td>\n",
       "      <td>-1.699809</td>\n",
       "    </tr>\n",
       "    <tr>\n",
       "      <th>2</th>\n",
       "      <td>1970-01-01 00:00:03</td>\n",
       "      <td>-2.257654</td>\n",
       "      <td>-2.578019</td>\n",
       "      <td>24</td>\n",
       "      <td>0</td>\n",
       "      <td>0.0</td>\n",
       "      <td>0.0</td>\n",
       "      <td>0.0</td>\n",
       "      <td>0.0</td>\n",
       "      <td>0.0</td>\n",
       "      <td>0.0</td>\n",
       "      <td>0.0</td>\n",
       "      <td>-1.678293</td>\n",
       "    </tr>\n",
       "    <tr>\n",
       "      <th>3</th>\n",
       "      <td>1970-01-01 00:00:04</td>\n",
       "      <td>-2.403731</td>\n",
       "      <td>-0.874593</td>\n",
       "      <td>9</td>\n",
       "      <td>0</td>\n",
       "      <td>0.0</td>\n",
       "      <td>0.0</td>\n",
       "      <td>0.0</td>\n",
       "      <td>0.0</td>\n",
       "      <td>0.0</td>\n",
       "      <td>0.0</td>\n",
       "      <td>0.0</td>\n",
       "      <td>-1.656776</td>\n",
       "    </tr>\n",
       "    <tr>\n",
       "      <th>4</th>\n",
       "      <td>1970-01-01 00:00:05</td>\n",
       "      <td>-2.436931</td>\n",
       "      <td>0.168756</td>\n",
       "      <td>6</td>\n",
       "      <td>0</td>\n",
       "      <td>0.0</td>\n",
       "      <td>0.0</td>\n",
       "      <td>0.0</td>\n",
       "      <td>0.0</td>\n",
       "      <td>0.0</td>\n",
       "      <td>0.0</td>\n",
       "      <td>0.0</td>\n",
       "      <td>-1.635260</td>\n",
       "    </tr>\n",
       "    <tr>\n",
       "      <th>...</th>\n",
       "      <td>...</td>\n",
       "      <td>...</td>\n",
       "      <td>...</td>\n",
       "      <td>...</td>\n",
       "      <td>...</td>\n",
       "      <td>...</td>\n",
       "      <td>...</td>\n",
       "      <td>...</td>\n",
       "      <td>...</td>\n",
       "      <td>...</td>\n",
       "      <td>...</td>\n",
       "      <td>...</td>\n",
       "      <td>...</td>\n",
       "    </tr>\n",
       "    <tr>\n",
       "      <th>196</th>\n",
       "      <td>1970-01-01 00:03:17</td>\n",
       "      <td>-0.071542</td>\n",
       "      <td>104.929448</td>\n",
       "      <td>113</td>\n",
       "      <td>0</td>\n",
       "      <td>0.0</td>\n",
       "      <td>0.0</td>\n",
       "      <td>0.0</td>\n",
       "      <td>0.0</td>\n",
       "      <td>0.0</td>\n",
       "      <td>0.0</td>\n",
       "      <td>0.0</td>\n",
       "      <td>2.495923</td>\n",
       "    </tr>\n",
       "    <tr>\n",
       "      <th>197</th>\n",
       "      <td>1970-01-01 00:03:18</td>\n",
       "      <td>-0.483830</td>\n",
       "      <td>182.222398</td>\n",
       "      <td>70</td>\n",
       "      <td>0</td>\n",
       "      <td>0.0</td>\n",
       "      <td>0.0</td>\n",
       "      <td>0.0</td>\n",
       "      <td>0.0</td>\n",
       "      <td>0.0</td>\n",
       "      <td>0.0</td>\n",
       "      <td>0.0</td>\n",
       "      <td>2.517439</td>\n",
       "    </tr>\n",
       "    <tr>\n",
       "      <th>198</th>\n",
       "      <td>1970-01-01 00:03:19</td>\n",
       "      <td>-1.128029</td>\n",
       "      <td>204.303056</td>\n",
       "      <td>40</td>\n",
       "      <td>0</td>\n",
       "      <td>0.0</td>\n",
       "      <td>0.0</td>\n",
       "      <td>0.0</td>\n",
       "      <td>0.0</td>\n",
       "      <td>0.0</td>\n",
       "      <td>0.0</td>\n",
       "      <td>0.0</td>\n",
       "      <td>2.538956</td>\n",
       "    </tr>\n",
       "    <tr>\n",
       "      <th>199</th>\n",
       "      <td>1970-01-01 00:03:20</td>\n",
       "      <td>-1.488781</td>\n",
       "      <td>236.327462</td>\n",
       "      <td>22</td>\n",
       "      <td>0</td>\n",
       "      <td>0.0</td>\n",
       "      <td>0.0</td>\n",
       "      <td>0.0</td>\n",
       "      <td>0.0</td>\n",
       "      <td>0.0</td>\n",
       "      <td>0.0</td>\n",
       "      <td>0.0</td>\n",
       "      <td>2.560472</td>\n",
       "    </tr>\n",
       "    <tr>\n",
       "      <th>200</th>\n",
       "      <td>1970-01-01 00:03:21</td>\n",
       "      <td>-1.849533</td>\n",
       "      <td>253.489478</td>\n",
       "      <td>7</td>\n",
       "      <td>0</td>\n",
       "      <td>0.0</td>\n",
       "      <td>0.0</td>\n",
       "      <td>0.0</td>\n",
       "      <td>0.0</td>\n",
       "      <td>0.0</td>\n",
       "      <td>0.0</td>\n",
       "      <td>0.0</td>\n",
       "      <td>2.581989</td>\n",
       "    </tr>\n",
       "  </tbody>\n",
       "</table>\n",
       "<p>201 rows × 13 columns</p>\n",
       "</div>"
      ],
      "text/plain": [
       "                   year        sd  observations  target  series  _hour_of_day  \\\n",
       "0   1970-01-01 00:00:01 -2.071737     -2.812240      53       0           0.0   \n",
       "1   1970-01-01 00:00:02 -2.158056     -2.045698      39       0           0.0   \n",
       "2   1970-01-01 00:00:03 -2.257654     -2.578019      24       0           0.0   \n",
       "3   1970-01-01 00:00:04 -2.403731     -0.874593       9       0           0.0   \n",
       "4   1970-01-01 00:00:05 -2.436931      0.168756       6       0           0.0   \n",
       "..                  ...       ...           ...     ...     ...           ...   \n",
       "196 1970-01-01 00:03:17 -0.071542    104.929448     113       0           0.0   \n",
       "197 1970-01-01 00:03:18 -0.483830    182.222398      70       0           0.0   \n",
       "198 1970-01-01 00:03:19 -1.128029    204.303056      40       0           0.0   \n",
       "199 1970-01-01 00:03:20 -1.488781    236.327462      22       0           0.0   \n",
       "200 1970-01-01 00:03:21 -1.849533    253.489478       7       0           0.0   \n",
       "\n",
       "     _day_of_week  _day_of_month  _day_of_year  _week_of_year  _month_of_year  \\\n",
       "0             0.0            0.0           0.0            0.0             0.0   \n",
       "1             0.0            0.0           0.0            0.0             0.0   \n",
       "2             0.0            0.0           0.0            0.0             0.0   \n",
       "3             0.0            0.0           0.0            0.0             0.0   \n",
       "4             0.0            0.0           0.0            0.0             0.0   \n",
       "..            ...            ...           ...            ...             ...   \n",
       "196           0.0            0.0           0.0            0.0             0.0   \n",
       "197           0.0            0.0           0.0            0.0             0.0   \n",
       "198           0.0            0.0           0.0            0.0             0.0   \n",
       "199           0.0            0.0           0.0            0.0             0.0   \n",
       "200           0.0            0.0           0.0            0.0             0.0   \n",
       "\n",
       "     _year      _age  \n",
       "0      0.0 -1.721326  \n",
       "1      0.0 -1.699809  \n",
       "2      0.0 -1.678293  \n",
       "3      0.0 -1.656776  \n",
       "4      0.0 -1.635260  \n",
       "..     ...       ...  \n",
       "196    0.0  2.495923  \n",
       "197    0.0  2.517439  \n",
       "198    0.0  2.538956  \n",
       "199    0.0  2.560472  \n",
       "200    0.0  2.581989  \n",
       "\n",
       "[201 rows x 13 columns]"
      ]
     },
     "execution_count": 7,
     "metadata": {},
     "output_type": "execute_result"
    }
   ],
   "source": [
    "sunspots_ds_one._data"
   ]
  },
  {
   "cell_type": "code",
   "execution_count": 8,
   "id": "9fa643f1",
   "metadata": {
    "ExecuteTime": {
     "end_time": "2022-11-07T07:58:35.762766Z",
     "start_time": "2022-11-07T07:58:35.726365Z"
    }
   },
   "outputs": [
    {
     "data": {
      "text/plain": [
       "'series'"
      ]
     },
     "execution_count": 8,
     "metadata": {},
     "output_type": "execute_result"
    }
   ],
   "source": [
    "sunspots_ds_one._grouping_name"
   ]
  },
  {
   "cell_type": "code",
   "execution_count": 9,
   "id": "33edd543",
   "metadata": {
    "ExecuteTime": {
     "end_time": "2022-11-07T07:58:35.797309Z",
     "start_time": "2022-11-07T07:58:35.763773Z"
    }
   },
   "outputs": [
    {
     "data": {
      "text/plain": [
       "array(['1'], dtype=object)"
      ]
     },
     "execution_count": 9,
     "metadata": {},
     "output_type": "execute_result"
    }
   ],
   "source": [
    "sunspots_ds_one.unique_cats"
   ]
  },
  {
   "cell_type": "code",
   "execution_count": 10,
   "id": "13f56d6f",
   "metadata": {
    "ExecuteTime": {
     "end_time": "2022-11-07T07:58:44.138607Z",
     "start_time": "2022-11-07T07:58:35.798385Z"
    }
   },
   "outputs": [
    {
     "name": "stdout",
     "output_type": "stream",
     "text": [
      "Metal device set to: Apple M1 Pro\n",
      "WARNING:tensorflow:Layer lstm will not use cuDNN kernels since it doesn't meet the criteria. It will use a generic GPU kernel as fallback when running on GPU.\n"
     ]
    },
    {
     "name": "stderr",
     "output_type": "stream",
     "text": [
      "2022-11-07 15:58:35.836335: I tensorflow/core/common_runtime/pluggable_device/pluggable_device_factory.cc:306] Could not identify NUMA node of platform GPU ID 0, defaulting to 0. Your kernel may not have been built with NUMA support.\n",
      "2022-11-07 15:58:35.836451: I tensorflow/core/common_runtime/pluggable_device/pluggable_device_factory.cc:272] Created TensorFlow device (/job:localhost/replica:0/task:0/device:GPU:0 with 0 MB memory) -> physical PluggableDevice (device: 0, name: METAL, pci bus id: <undefined>)\n"
     ]
    },
    {
     "data": {
      "text/plain": [
       "(<tf.Tensor: shape=(), dtype=float32, numpy=133.85616>, 2)"
      ]
     },
     "execution_count": 10,
     "metadata": {},
     "output_type": "execute_result"
    }
   ],
   "source": [
    "learner = DeepARLearner(sunspots_ds_one, verbose=1)\n",
    "\n",
    "learner.fit(epochs = 2, steps_per_epoch = 10, early_stopping = False,tensorboard=True,\n",
    "           checkpoint_dir=os.path.join(\"./checkpoints\"))"
   ]
  },
  {
   "cell_type": "code",
   "execution_count": 11,
   "id": "8493d553",
   "metadata": {
    "ExecuteTime": {
     "end_time": "2022-11-07T07:58:44.174566Z",
     "start_time": "2022-11-07T07:58:44.139554Z"
    }
   },
   "outputs": [],
   "source": [
    "test_df = pd.read_csv('test_data/learningData.csv').reset_index(drop=True)\n",
    "\n",
    "test_df['year'] = pd.to_datetime(np.cumsum(test_df['year']), unit='s')\n"
   ]
  },
  {
   "cell_type": "code",
   "execution_count": 12,
   "id": "a1557e39",
   "metadata": {
    "ExecuteTime": {
     "end_time": "2022-11-07T07:58:44.210058Z",
     "start_time": "2022-11-07T07:58:44.175607Z"
    }
   },
   "outputs": [],
   "source": [
    "test_df['series'] = '1'"
   ]
  },
  {
   "cell_type": "code",
   "execution_count": 13,
   "id": "7a6a314a",
   "metadata": {
    "ExecuteTime": {
     "end_time": "2022-11-07T07:58:44.249740Z",
     "start_time": "2022-11-07T07:58:44.213078Z"
    }
   },
   "outputs": [
    {
     "data": {
      "text/html": [
       "<div>\n",
       "<style scoped>\n",
       "    .dataframe tbody tr th:only-of-type {\n",
       "        vertical-align: middle;\n",
       "    }\n",
       "\n",
       "    .dataframe tbody tr th {\n",
       "        vertical-align: top;\n",
       "    }\n",
       "\n",
       "    .dataframe thead th {\n",
       "        text-align: right;\n",
       "    }\n",
       "</style>\n",
       "<table border=\"1\" class=\"dataframe\">\n",
       "  <thead>\n",
       "    <tr style=\"text-align: right;\">\n",
       "      <th></th>\n",
       "      <th>d3mIndex</th>\n",
       "      <th>year</th>\n",
       "      <th>sd</th>\n",
       "      <th>observations</th>\n",
       "      <th>sunspots</th>\n",
       "      <th>series</th>\n",
       "    </tr>\n",
       "  </thead>\n",
       "  <tbody>\n",
       "    <tr>\n",
       "      <th>0</th>\n",
       "      <td>180</td>\n",
       "      <td>1970-01-01 00:03:22</td>\n",
       "      <td>6.6</td>\n",
       "      <td>6353</td>\n",
       "      <td>NaN</td>\n",
       "      <td>1</td>\n",
       "    </tr>\n",
       "    <tr>\n",
       "      <th>1</th>\n",
       "      <td>181</td>\n",
       "      <td>1970-01-01 00:03:23</td>\n",
       "      <td>9.3</td>\n",
       "      <td>6413</td>\n",
       "      <td>NaN</td>\n",
       "      <td>1</td>\n",
       "    </tr>\n",
       "    <tr>\n",
       "      <th>2</th>\n",
       "      <td>182</td>\n",
       "      <td>1970-01-01 00:03:24</td>\n",
       "      <td>10.1</td>\n",
       "      <td>5953</td>\n",
       "      <td>NaN</td>\n",
       "      <td>1</td>\n",
       "    </tr>\n",
       "    <tr>\n",
       "      <th>3</th>\n",
       "      <td>183</td>\n",
       "      <td>1970-01-01 00:03:25</td>\n",
       "      <td>10.5</td>\n",
       "      <td>6558</td>\n",
       "      <td>NaN</td>\n",
       "      <td>1</td>\n",
       "    </tr>\n",
       "    <tr>\n",
       "      <th>4</th>\n",
       "      <td>184</td>\n",
       "      <td>1970-01-01 00:03:26</td>\n",
       "      <td>9.8</td>\n",
       "      <td>6588</td>\n",
       "      <td>NaN</td>\n",
       "      <td>1</td>\n",
       "    </tr>\n",
       "    <tr>\n",
       "      <th>5</th>\n",
       "      <td>185</td>\n",
       "      <td>1970-01-01 00:03:27</td>\n",
       "      <td>7.1</td>\n",
       "      <td>7087</td>\n",
       "      <td>NaN</td>\n",
       "      <td>1</td>\n",
       "    </tr>\n",
       "    <tr>\n",
       "      <th>6</th>\n",
       "      <td>186</td>\n",
       "      <td>1970-01-01 00:03:28</td>\n",
       "      <td>5.9</td>\n",
       "      <td>6882</td>\n",
       "      <td>NaN</td>\n",
       "      <td>1</td>\n",
       "    </tr>\n",
       "    <tr>\n",
       "      <th>7</th>\n",
       "      <td>187</td>\n",
       "      <td>1970-01-01 00:03:29</td>\n",
       "      <td>4.7</td>\n",
       "      <td>7084</td>\n",
       "      <td>NaN</td>\n",
       "      <td>1</td>\n",
       "    </tr>\n",
       "    <tr>\n",
       "      <th>8</th>\n",
       "      <td>188</td>\n",
       "      <td>1970-01-01 00:03:30</td>\n",
       "      <td>3.5</td>\n",
       "      <td>6370</td>\n",
       "      <td>NaN</td>\n",
       "      <td>1</td>\n",
       "    </tr>\n",
       "    <tr>\n",
       "      <th>9</th>\n",
       "      <td>189</td>\n",
       "      <td>1970-01-01 00:03:31</td>\n",
       "      <td>2.7</td>\n",
       "      <td>6841</td>\n",
       "      <td>NaN</td>\n",
       "      <td>1</td>\n",
       "    </tr>\n",
       "    <tr>\n",
       "      <th>10</th>\n",
       "      <td>190</td>\n",
       "      <td>1970-01-01 00:03:32</td>\n",
       "      <td>2.5</td>\n",
       "      <td>6644</td>\n",
       "      <td>NaN</td>\n",
       "      <td>1</td>\n",
       "    </tr>\n",
       "    <tr>\n",
       "      <th>11</th>\n",
       "      <td>191</td>\n",
       "      <td>1970-01-01 00:03:33</td>\n",
       "      <td>2.5</td>\n",
       "      <td>6465</td>\n",
       "      <td>NaN</td>\n",
       "      <td>1</td>\n",
       "    </tr>\n",
       "    <tr>\n",
       "      <th>12</th>\n",
       "      <td>192</td>\n",
       "      <td>1970-01-01 00:03:34</td>\n",
       "      <td>3.4</td>\n",
       "      <td>6328</td>\n",
       "      <td>NaN</td>\n",
       "      <td>1</td>\n",
       "    </tr>\n",
       "    <tr>\n",
       "      <th>13</th>\n",
       "      <td>193</td>\n",
       "      <td>1970-01-01 00:03:35</td>\n",
       "      <td>6.7</td>\n",
       "      <td>6077</td>\n",
       "      <td>NaN</td>\n",
       "      <td>1</td>\n",
       "    </tr>\n",
       "    <tr>\n",
       "      <th>14</th>\n",
       "      <td>194</td>\n",
       "      <td>1970-01-01 00:03:36</td>\n",
       "      <td>6.7</td>\n",
       "      <td>5753</td>\n",
       "      <td>NaN</td>\n",
       "      <td>1</td>\n",
       "    </tr>\n",
       "    <tr>\n",
       "      <th>15</th>\n",
       "      <td>195</td>\n",
       "      <td>1970-01-01 00:03:37</td>\n",
       "      <td>6.9</td>\n",
       "      <td>5347</td>\n",
       "      <td>NaN</td>\n",
       "      <td>1</td>\n",
       "    </tr>\n",
       "    <tr>\n",
       "      <th>16</th>\n",
       "      <td>196</td>\n",
       "      <td>1970-01-01 00:03:38</td>\n",
       "      <td>8.0</td>\n",
       "      <td>5273</td>\n",
       "      <td>NaN</td>\n",
       "      <td>1</td>\n",
       "    </tr>\n",
       "    <tr>\n",
       "      <th>17</th>\n",
       "      <td>197</td>\n",
       "      <td>1970-01-01 00:03:39</td>\n",
       "      <td>6.4</td>\n",
       "      <td>8903</td>\n",
       "      <td>NaN</td>\n",
       "      <td>1</td>\n",
       "    </tr>\n",
       "    <tr>\n",
       "      <th>18</th>\n",
       "      <td>198</td>\n",
       "      <td>1970-01-01 00:03:40</td>\n",
       "      <td>3.9</td>\n",
       "      <td>9940</td>\n",
       "      <td>NaN</td>\n",
       "      <td>1</td>\n",
       "    </tr>\n",
       "    <tr>\n",
       "      <th>19</th>\n",
       "      <td>199</td>\n",
       "      <td>1970-01-01 00:03:41</td>\n",
       "      <td>2.5</td>\n",
       "      <td>11444</td>\n",
       "      <td>NaN</td>\n",
       "      <td>1</td>\n",
       "    </tr>\n",
       "    <tr>\n",
       "      <th>20</th>\n",
       "      <td>200</td>\n",
       "      <td>1970-01-01 00:03:42</td>\n",
       "      <td>1.1</td>\n",
       "      <td>12250</td>\n",
       "      <td>NaN</td>\n",
       "      <td>1</td>\n",
       "    </tr>\n",
       "  </tbody>\n",
       "</table>\n",
       "</div>"
      ],
      "text/plain": [
       "    d3mIndex                year    sd  observations  sunspots series\n",
       "0        180 1970-01-01 00:03:22   6.6          6353       NaN      1\n",
       "1        181 1970-01-01 00:03:23   9.3          6413       NaN      1\n",
       "2        182 1970-01-01 00:03:24  10.1          5953       NaN      1\n",
       "3        183 1970-01-01 00:03:25  10.5          6558       NaN      1\n",
       "4        184 1970-01-01 00:03:26   9.8          6588       NaN      1\n",
       "5        185 1970-01-01 00:03:27   7.1          7087       NaN      1\n",
       "6        186 1970-01-01 00:03:28   5.9          6882       NaN      1\n",
       "7        187 1970-01-01 00:03:29   4.7          7084       NaN      1\n",
       "8        188 1970-01-01 00:03:30   3.5          6370       NaN      1\n",
       "9        189 1970-01-01 00:03:31   2.7          6841       NaN      1\n",
       "10       190 1970-01-01 00:03:32   2.5          6644       NaN      1\n",
       "11       191 1970-01-01 00:03:33   2.5          6465       NaN      1\n",
       "12       192 1970-01-01 00:03:34   3.4          6328       NaN      1\n",
       "13       193 1970-01-01 00:03:35   6.7          6077       NaN      1\n",
       "14       194 1970-01-01 00:03:36   6.7          5753       NaN      1\n",
       "15       195 1970-01-01 00:03:37   6.9          5347       NaN      1\n",
       "16       196 1970-01-01 00:03:38   8.0          5273       NaN      1\n",
       "17       197 1970-01-01 00:03:39   6.4          8903       NaN      1\n",
       "18       198 1970-01-01 00:03:40   3.9          9940       NaN      1\n",
       "19       199 1970-01-01 00:03:41   2.5         11444       NaN      1\n",
       "20       200 1970-01-01 00:03:42   1.1         12250       NaN      1"
      ]
     },
     "execution_count": 13,
     "metadata": {},
     "output_type": "execute_result"
    }
   ],
   "source": [
    "test_df"
   ]
  },
  {
   "cell_type": "code",
   "execution_count": 14,
   "id": "88d819a3",
   "metadata": {
    "ExecuteTime": {
     "end_time": "2022-11-07T07:58:44.290604Z",
     "start_time": "2022-11-07T07:58:44.250657Z"
    }
   },
   "outputs": [],
   "source": [
    "\n",
    "test_ds = TimeSeriesTest(sunspots_ds_one,test_df,  target_idx = 4)\n"
   ]
  },
  {
   "cell_type": "code",
   "execution_count": 15,
   "id": "85b30e50",
   "metadata": {
    "ExecuteTime": {
     "end_time": "2022-11-07T07:58:47.596611Z",
     "start_time": "2022-11-07T07:58:44.291585Z"
    }
   },
   "outputs": [
    {
     "ename": "InvalidArgumentError",
     "evalue": "Cannot assign a device for operation ResourceStridedSliceAssign: Could not satisfy explicit device specification '/job:localhost/replica:0/task:0/device:GPU:0' because no supported kernel for GPU devices is available.\nColocation Debug Info:\nColocation group had the following types and supported devices: \nRoot Member(assigned_device_name_index_=1 requested_device_name_='/job:localhost/replica:0/task:0/device:GPU:0' assigned_device_name_='/job:localhost/replica:0/task:0/device:GPU:0' resource_device_name_='/job:localhost/replica:0/task:0/device:GPU:0' supported_device_types_=[CPU] possible_devices_=[]\nResourceStridedSliceAssign: CPU \n_Arg: GPU CPU \n\nColocation members, user-requested devices, and framework assigned devices, if any:\n  ref (_Arg)  framework assigned device=/job:localhost/replica:0/task:0/device:GPU:0\n  ResourceStridedSliceAssign (ResourceStridedSliceAssign) /job:localhost/replica:0/task:0/device:GPU:0\n\nOp: ResourceStridedSliceAssign\nNode attrs: T=DT_FLOAT, Index=DT_INT32, shrink_axis_mask=0, begin_mask=3, ellipsis_mask=0, new_axis_mask=0, end_mask=5\nRegistered kernels:\n  device='XLA_CPU_JIT'; Index in [DT_INT32, DT_INT64]; T in [DT_FLOAT, DT_DOUBLE, DT_INT32, DT_UINT8, DT_INT16, 16005131165644881776, DT_UINT16, DT_COMPLEX128, DT_HALF, DT_UINT32, DT_UINT64]\n  device='DEFAULT'; T in [DT_INT32]\n  device='CPU'; T in [DT_UINT64]\n  device='CPU'; T in [DT_INT64]\n  device='CPU'; T in [DT_UINT32]\n  device='CPU'; T in [DT_UINT16]\n  device='CPU'; T in [DT_INT16]\n  device='CPU'; T in [DT_UINT8]\n  device='CPU'; T in [DT_INT8]\n  device='CPU'; T in [DT_INT32]\n  device='CPU'; T in [DT_HALF]\n  device='CPU'; T in [DT_BFLOAT16]\n  device='CPU'; T in [DT_FLOAT]\n  device='CPU'; T in [DT_DOUBLE]\n  device='CPU'; T in [DT_COMPLEX64]\n  device='CPU'; T in [DT_COMPLEX128]\n  device='CPU'; T in [DT_BOOL]\n  device='CPU'; T in [DT_STRING]\n  device='CPU'; T in [DT_RESOURCE]\n  device='CPU'; T in [DT_VARIANT]\n  device='CPU'; T in [DT_QINT8]\n  device='CPU'; T in [DT_QUINT8]\n  device='CPU'; T in [DT_QINT32]\n\n\t [[{{node ResourceStridedSliceAssign}}]] [Op:ResourceStridedSliceAssign] name: strided_slice/_assign",
     "output_type": "error",
     "traceback": [
      "\u001b[0;31m---------------------------------------------------------------------------\u001b[0m",
      "\u001b[0;31mInvalidArgumentError\u001b[0m                      Traceback (most recent call last)",
      "Cell \u001b[0;32mIn [15], line 1\u001b[0m\n\u001b[0;32m----> 1\u001b[0m preds \u001b[38;5;241m=\u001b[39m \u001b[43mlearner\u001b[49m\u001b[38;5;241;43m.\u001b[39;49m\u001b[43mpredict\u001b[49m\u001b[43m(\u001b[49m\u001b[43mtest_ds\u001b[49m\u001b[43m,\u001b[49m\u001b[43m \u001b[49m\u001b[43mhorizon\u001b[49m\u001b[43m \u001b[49m\u001b[38;5;241;43m=\u001b[39;49m\u001b[43m \u001b[49m\u001b[38;5;28;43;01mNone\u001b[39;49;00m\u001b[43m,\u001b[49m\u001b[43m \u001b[49m\u001b[43msamples\u001b[49m\u001b[43m \u001b[49m\u001b[38;5;241;43m=\u001b[39;49m\u001b[43m \u001b[49m\u001b[38;5;241;43m1\u001b[39;49m\u001b[43m,\u001b[49m\u001b[43m \u001b[49m\u001b[43minclude_all_training\u001b[49m\u001b[43m \u001b[49m\u001b[38;5;241;43m=\u001b[39;49m\u001b[43m \u001b[49m\u001b[38;5;28;43;01mTrue\u001b[39;49;00m\u001b[43m)\u001b[49m\u001b[38;5;241m.\u001b[39mreshape(\u001b[38;5;241m-\u001b[39m\u001b[38;5;241m1\u001b[39m)\n",
      "File \u001b[0;32m~/PycharmProjects/deepar_tensorflow/deepar/model/learner.py:596\u001b[0m, in \u001b[0;36mDeepARLearner.predict\u001b[0;34m(self, test_ts_obj, point_estimate, horizon, samples, include_all_training, return_in_sample_predictions)\u001b[0m\n\u001b[1;32m    592\u001b[0m \u001b[38;5;66;03m# don't need to replace for first test batch bc have tgt from last training example\u001b[39;00m\n\u001b[1;32m    593\u001b[0m \u001b[38;5;28;01mif\u001b[39;00m horizon_idx \u001b[38;5;241m>\u001b[39m \u001b[38;5;241m1\u001b[39m:\n\u001b[1;32m    594\u001b[0m     \u001b[38;5;66;03m# add one sample from previous predictions to test batches\u001b[39;00m\n\u001b[1;32m    595\u001b[0m     \u001b[38;5;66;03m# all dim 0, first row of dim 1, last col of dim 3\u001b[39;00m\n\u001b[0;32m--> 596\u001b[0m     x_test \u001b[38;5;241m=\u001b[39m \u001b[38;5;28;43mself\u001b[39;49m\u001b[38;5;241;43m.\u001b[39;49m\u001b[43m_add_prev_target\u001b[49m\u001b[43m(\u001b[49m\u001b[43mx_test\u001b[49m\u001b[43m,\u001b[49m\u001b[43m \u001b[49m\u001b[43mmu\u001b[49m\u001b[43m[\u001b[49m\u001b[43m:\u001b[49m\u001b[43m,\u001b[49m\u001b[43m \u001b[49m\u001b[43m:\u001b[49m\u001b[38;5;241;43m1\u001b[39;49m\u001b[43m,\u001b[49m\u001b[43m \u001b[49m\u001b[43m:\u001b[49m\u001b[43m]\u001b[49m\u001b[43m)\u001b[49m\n\u001b[1;32m    598\u001b[0m \u001b[38;5;66;03m# make predictions\u001b[39;00m\n\u001b[1;32m    599\u001b[0m mu, scale \u001b[38;5;241m=\u001b[39m \u001b[38;5;28mself\u001b[39m\u001b[38;5;241m.\u001b[39m_model(x_test)\n",
      "File \u001b[0;32m~/PycharmProjects/deepar_tensorflow/deepar/model/learner.py:451\u001b[0m, in \u001b[0;36mDeepARLearner._add_prev_target\u001b[0;34m(self, x_test, prev_target)\u001b[0m\n\u001b[1;32m    444\u001b[0m \u001b[38;5;28;01mdef\u001b[39;00m \u001b[38;5;21m_add_prev_target\u001b[39m(\n\u001b[1;32m    445\u001b[0m     \u001b[38;5;28mself\u001b[39m, x_test: tf\u001b[38;5;241m.\u001b[39mVariable, prev_target: tf\u001b[38;5;241m.\u001b[39mTensor\n\u001b[1;32m    446\u001b[0m ) \u001b[38;5;241m-\u001b[39m\u001b[38;5;241m>\u001b[39m typing\u001b[38;5;241m.\u001b[39mTuple[tf\u001b[38;5;241m.\u001b[39mVariable, tf\u001b[38;5;241m.\u001b[39mTensor]:\n\u001b[1;32m    448\u001b[0m     \u001b[38;5;124;03m\"\"\" private util function that replaces the previous target column in input data with \u001b[39;00m\n\u001b[1;32m    449\u001b[0m \u001b[38;5;124;03m        dynamically generated last target  \u001b[39;00m\n\u001b[1;32m    450\u001b[0m \u001b[38;5;124;03m    \"\"\"\u001b[39;00m\n\u001b[0;32m--> 451\u001b[0m     x_test_new \u001b[38;5;241m=\u001b[39m \u001b[43mx_test\u001b[49m\u001b[43m[\u001b[49m\u001b[38;5;241;43m0\u001b[39;49m\u001b[43m]\u001b[49m\u001b[43m[\u001b[49m\u001b[43m:\u001b[49m\u001b[43m,\u001b[49m\u001b[43m \u001b[49m\u001b[43m:\u001b[49m\u001b[38;5;241;43m1\u001b[39;49m\u001b[43m,\u001b[49m\u001b[43m \u001b[49m\u001b[38;5;241;43m-\u001b[39;49m\u001b[38;5;241;43m1\u001b[39;49m\u001b[43m:\u001b[49m\u001b[43m]\u001b[49m\u001b[38;5;241;43m.\u001b[39;49m\u001b[43massign\u001b[49m\u001b[43m(\u001b[49m\u001b[43mprev_target\u001b[49m\u001b[43m)\u001b[49m\n\u001b[1;32m    452\u001b[0m     \u001b[38;5;28;01mreturn\u001b[39;00m [x_test_new, x_test[\u001b[38;5;241m1\u001b[39m]]\n",
      "File \u001b[0;32m~/anaconda3/envs/auto-pytorch/lib/python3.8/site-packages/tensorflow/python/ops/array_ops.py:1290\u001b[0m, in \u001b[0;36mstrided_slice.<locals>.assign\u001b[0;34m(val, name)\u001b[0m\n\u001b[1;32m   1287\u001b[0m \u001b[38;5;28;01mif\u001b[39;00m name \u001b[38;5;129;01mis\u001b[39;00m \u001b[38;5;28;01mNone\u001b[39;00m:\n\u001b[1;32m   1288\u001b[0m   name \u001b[38;5;241m=\u001b[39m parent_name \u001b[38;5;241m+\u001b[39m \u001b[38;5;124m\"\u001b[39m\u001b[38;5;124m_assign\u001b[39m\u001b[38;5;124m\"\u001b[39m\n\u001b[0;32m-> 1290\u001b[0m \u001b[38;5;28;01mreturn\u001b[39;00m \u001b[43mvar\u001b[49m\u001b[38;5;241;43m.\u001b[39;49m\u001b[43m_strided_slice_assign\u001b[49m\u001b[43m(\u001b[49m\n\u001b[1;32m   1291\u001b[0m \u001b[43m    \u001b[49m\u001b[43mbegin\u001b[49m\u001b[38;5;241;43m=\u001b[39;49m\u001b[43mbegin\u001b[49m\u001b[43m,\u001b[49m\n\u001b[1;32m   1292\u001b[0m \u001b[43m    \u001b[49m\u001b[43mend\u001b[49m\u001b[38;5;241;43m=\u001b[39;49m\u001b[43mend\u001b[49m\u001b[43m,\u001b[49m\n\u001b[1;32m   1293\u001b[0m \u001b[43m    \u001b[49m\u001b[43mstrides\u001b[49m\u001b[38;5;241;43m=\u001b[39;49m\u001b[43mstrides\u001b[49m\u001b[43m,\u001b[49m\n\u001b[1;32m   1294\u001b[0m \u001b[43m    \u001b[49m\u001b[43mvalue\u001b[49m\u001b[38;5;241;43m=\u001b[39;49m\u001b[43mval\u001b[49m\u001b[43m,\u001b[49m\n\u001b[1;32m   1295\u001b[0m \u001b[43m    \u001b[49m\u001b[43mname\u001b[49m\u001b[38;5;241;43m=\u001b[39;49m\u001b[43mname\u001b[49m\u001b[43m,\u001b[49m\n\u001b[1;32m   1296\u001b[0m \u001b[43m    \u001b[49m\u001b[43mbegin_mask\u001b[49m\u001b[38;5;241;43m=\u001b[39;49m\u001b[43mbegin_mask\u001b[49m\u001b[43m,\u001b[49m\n\u001b[1;32m   1297\u001b[0m \u001b[43m    \u001b[49m\u001b[43mend_mask\u001b[49m\u001b[38;5;241;43m=\u001b[39;49m\u001b[43mend_mask\u001b[49m\u001b[43m,\u001b[49m\n\u001b[1;32m   1298\u001b[0m \u001b[43m    \u001b[49m\u001b[43mellipsis_mask\u001b[49m\u001b[38;5;241;43m=\u001b[39;49m\u001b[43mellipsis_mask\u001b[49m\u001b[43m,\u001b[49m\n\u001b[1;32m   1299\u001b[0m \u001b[43m    \u001b[49m\u001b[43mnew_axis_mask\u001b[49m\u001b[38;5;241;43m=\u001b[39;49m\u001b[43mnew_axis_mask\u001b[49m\u001b[43m,\u001b[49m\n\u001b[1;32m   1300\u001b[0m \u001b[43m    \u001b[49m\u001b[43mshrink_axis_mask\u001b[49m\u001b[38;5;241;43m=\u001b[39;49m\u001b[43mshrink_axis_mask\u001b[49m\u001b[43m)\u001b[49m\n",
      "File \u001b[0;32m~/anaconda3/envs/auto-pytorch/lib/python3.8/site-packages/tensorflow/python/ops/resource_variable_ops.py:1433\u001b[0m, in \u001b[0;36mBaseResourceVariable._strided_slice_assign\u001b[0;34m(self, begin, end, strides, value, name, begin_mask, end_mask, ellipsis_mask, new_axis_mask, shrink_axis_mask)\u001b[0m\n\u001b[1;32m   1428\u001b[0m \u001b[38;5;28;01mdef\u001b[39;00m \u001b[38;5;21m_strided_slice_assign\u001b[39m(\u001b[38;5;28mself\u001b[39m, begin, end, strides, value, name, begin_mask,\n\u001b[1;32m   1429\u001b[0m                           end_mask, ellipsis_mask, new_axis_mask,\n\u001b[1;32m   1430\u001b[0m                           shrink_axis_mask):\n\u001b[1;32m   1431\u001b[0m   \u001b[38;5;28;01mwith\u001b[39;00m _handle_graph(\u001b[38;5;28mself\u001b[39m\u001b[38;5;241m.\u001b[39mhandle), \u001b[38;5;28mself\u001b[39m\u001b[38;5;241m.\u001b[39m_assign_dependencies():\n\u001b[1;32m   1432\u001b[0m     \u001b[38;5;28;01mreturn\u001b[39;00m \u001b[38;5;28mself\u001b[39m\u001b[38;5;241m.\u001b[39m_lazy_read(\n\u001b[0;32m-> 1433\u001b[0m         \u001b[43mgen_array_ops\u001b[49m\u001b[38;5;241;43m.\u001b[39;49m\u001b[43mresource_strided_slice_assign\u001b[49m\u001b[43m(\u001b[49m\n\u001b[1;32m   1434\u001b[0m \u001b[43m            \u001b[49m\u001b[43mref\u001b[49m\u001b[38;5;241;43m=\u001b[39;49m\u001b[38;5;28;43mself\u001b[39;49m\u001b[38;5;241;43m.\u001b[39;49m\u001b[43mhandle\u001b[49m\u001b[43m,\u001b[49m\n\u001b[1;32m   1435\u001b[0m \u001b[43m            \u001b[49m\u001b[43mbegin\u001b[49m\u001b[38;5;241;43m=\u001b[39;49m\u001b[43mbegin\u001b[49m\u001b[43m,\u001b[49m\n\u001b[1;32m   1436\u001b[0m \u001b[43m            \u001b[49m\u001b[43mend\u001b[49m\u001b[38;5;241;43m=\u001b[39;49m\u001b[43mend\u001b[49m\u001b[43m,\u001b[49m\n\u001b[1;32m   1437\u001b[0m \u001b[43m            \u001b[49m\u001b[43mstrides\u001b[49m\u001b[38;5;241;43m=\u001b[39;49m\u001b[43mstrides\u001b[49m\u001b[43m,\u001b[49m\n\u001b[1;32m   1438\u001b[0m \u001b[43m            \u001b[49m\u001b[43mvalue\u001b[49m\u001b[38;5;241;43m=\u001b[39;49m\u001b[43mops\u001b[49m\u001b[38;5;241;43m.\u001b[39;49m\u001b[43mconvert_to_tensor\u001b[49m\u001b[43m(\u001b[49m\u001b[43mvalue\u001b[49m\u001b[43m,\u001b[49m\u001b[43m \u001b[49m\u001b[43mdtype\u001b[49m\u001b[38;5;241;43m=\u001b[39;49m\u001b[38;5;28;43mself\u001b[39;49m\u001b[38;5;241;43m.\u001b[39;49m\u001b[43mdtype\u001b[49m\u001b[43m)\u001b[49m\u001b[43m,\u001b[49m\n\u001b[1;32m   1439\u001b[0m \u001b[43m            \u001b[49m\u001b[43mname\u001b[49m\u001b[38;5;241;43m=\u001b[39;49m\u001b[43mname\u001b[49m\u001b[43m,\u001b[49m\n\u001b[1;32m   1440\u001b[0m \u001b[43m            \u001b[49m\u001b[43mbegin_mask\u001b[49m\u001b[38;5;241;43m=\u001b[39;49m\u001b[43mbegin_mask\u001b[49m\u001b[43m,\u001b[49m\n\u001b[1;32m   1441\u001b[0m \u001b[43m            \u001b[49m\u001b[43mend_mask\u001b[49m\u001b[38;5;241;43m=\u001b[39;49m\u001b[43mend_mask\u001b[49m\u001b[43m,\u001b[49m\n\u001b[1;32m   1442\u001b[0m \u001b[43m            \u001b[49m\u001b[43mellipsis_mask\u001b[49m\u001b[38;5;241;43m=\u001b[39;49m\u001b[43mellipsis_mask\u001b[49m\u001b[43m,\u001b[49m\n\u001b[1;32m   1443\u001b[0m \u001b[43m            \u001b[49m\u001b[43mnew_axis_mask\u001b[49m\u001b[38;5;241;43m=\u001b[39;49m\u001b[43mnew_axis_mask\u001b[49m\u001b[43m,\u001b[49m\n\u001b[1;32m   1444\u001b[0m \u001b[43m            \u001b[49m\u001b[43mshrink_axis_mask\u001b[49m\u001b[38;5;241;43m=\u001b[39;49m\u001b[43mshrink_axis_mask\u001b[49m\u001b[43m)\u001b[49m)\n",
      "File \u001b[0;32m~/anaconda3/envs/auto-pytorch/lib/python3.8/site-packages/tensorflow/python/ops/gen_array_ops.py:8617\u001b[0m, in \u001b[0;36mresource_strided_slice_assign\u001b[0;34m(ref, begin, end, strides, value, begin_mask, end_mask, ellipsis_mask, new_axis_mask, shrink_axis_mask, name)\u001b[0m\n\u001b[1;32m   8615\u001b[0m   \u001b[38;5;28;01mreturn\u001b[39;00m _result\n\u001b[1;32m   8616\u001b[0m \u001b[38;5;28;01mexcept\u001b[39;00m _core\u001b[38;5;241m.\u001b[39m_NotOkStatusException \u001b[38;5;28;01mas\u001b[39;00m e:\n\u001b[0;32m-> 8617\u001b[0m   \u001b[43m_ops\u001b[49m\u001b[38;5;241;43m.\u001b[39;49m\u001b[43mraise_from_not_ok_status\u001b[49m\u001b[43m(\u001b[49m\u001b[43me\u001b[49m\u001b[43m,\u001b[49m\u001b[43m \u001b[49m\u001b[43mname\u001b[49m\u001b[43m)\u001b[49m\n\u001b[1;32m   8618\u001b[0m \u001b[38;5;28;01mexcept\u001b[39;00m _core\u001b[38;5;241m.\u001b[39m_FallbackException:\n\u001b[1;32m   8619\u001b[0m   \u001b[38;5;28;01mpass\u001b[39;00m\n",
      "File \u001b[0;32m~/anaconda3/envs/auto-pytorch/lib/python3.8/site-packages/tensorflow/python/framework/ops.py:7209\u001b[0m, in \u001b[0;36mraise_from_not_ok_status\u001b[0;34m(e, name)\u001b[0m\n\u001b[1;32m   7207\u001b[0m \u001b[38;5;28;01mdef\u001b[39;00m \u001b[38;5;21mraise_from_not_ok_status\u001b[39m(e, name):\n\u001b[1;32m   7208\u001b[0m   e\u001b[38;5;241m.\u001b[39mmessage \u001b[38;5;241m+\u001b[39m\u001b[38;5;241m=\u001b[39m (\u001b[38;5;124m\"\u001b[39m\u001b[38;5;124m name: \u001b[39m\u001b[38;5;124m\"\u001b[39m \u001b[38;5;241m+\u001b[39m name \u001b[38;5;28;01mif\u001b[39;00m name \u001b[38;5;129;01mis\u001b[39;00m \u001b[38;5;129;01mnot\u001b[39;00m \u001b[38;5;28;01mNone\u001b[39;00m \u001b[38;5;28;01melse\u001b[39;00m \u001b[38;5;124m\"\u001b[39m\u001b[38;5;124m\"\u001b[39m)\n\u001b[0;32m-> 7209\u001b[0m   \u001b[38;5;28;01mraise\u001b[39;00m core\u001b[38;5;241m.\u001b[39m_status_to_exception(e) \u001b[38;5;28;01mfrom\u001b[39;00m \u001b[38;5;28mNone\u001b[39m\n",
      "\u001b[0;31mInvalidArgumentError\u001b[0m: Cannot assign a device for operation ResourceStridedSliceAssign: Could not satisfy explicit device specification '/job:localhost/replica:0/task:0/device:GPU:0' because no supported kernel for GPU devices is available.\nColocation Debug Info:\nColocation group had the following types and supported devices: \nRoot Member(assigned_device_name_index_=1 requested_device_name_='/job:localhost/replica:0/task:0/device:GPU:0' assigned_device_name_='/job:localhost/replica:0/task:0/device:GPU:0' resource_device_name_='/job:localhost/replica:0/task:0/device:GPU:0' supported_device_types_=[CPU] possible_devices_=[]\nResourceStridedSliceAssign: CPU \n_Arg: GPU CPU \n\nColocation members, user-requested devices, and framework assigned devices, if any:\n  ref (_Arg)  framework assigned device=/job:localhost/replica:0/task:0/device:GPU:0\n  ResourceStridedSliceAssign (ResourceStridedSliceAssign) /job:localhost/replica:0/task:0/device:GPU:0\n\nOp: ResourceStridedSliceAssign\nNode attrs: T=DT_FLOAT, Index=DT_INT32, shrink_axis_mask=0, begin_mask=3, ellipsis_mask=0, new_axis_mask=0, end_mask=5\nRegistered kernels:\n  device='XLA_CPU_JIT'; Index in [DT_INT32, DT_INT64]; T in [DT_FLOAT, DT_DOUBLE, DT_INT32, DT_UINT8, DT_INT16, 16005131165644881776, DT_UINT16, DT_COMPLEX128, DT_HALF, DT_UINT32, DT_UINT64]\n  device='DEFAULT'; T in [DT_INT32]\n  device='CPU'; T in [DT_UINT64]\n  device='CPU'; T in [DT_INT64]\n  device='CPU'; T in [DT_UINT32]\n  device='CPU'; T in [DT_UINT16]\n  device='CPU'; T in [DT_INT16]\n  device='CPU'; T in [DT_UINT8]\n  device='CPU'; T in [DT_INT8]\n  device='CPU'; T in [DT_INT32]\n  device='CPU'; T in [DT_HALF]\n  device='CPU'; T in [DT_BFLOAT16]\n  device='CPU'; T in [DT_FLOAT]\n  device='CPU'; T in [DT_DOUBLE]\n  device='CPU'; T in [DT_COMPLEX64]\n  device='CPU'; T in [DT_COMPLEX128]\n  device='CPU'; T in [DT_BOOL]\n  device='CPU'; T in [DT_STRING]\n  device='CPU'; T in [DT_RESOURCE]\n  device='CPU'; T in [DT_VARIANT]\n  device='CPU'; T in [DT_QINT8]\n  device='CPU'; T in [DT_QUINT8]\n  device='CPU'; T in [DT_QINT32]\n\n\t [[{{node ResourceStridedSliceAssign}}]] [Op:ResourceStridedSliceAssign] name: strided_slice/_assign"
     ]
    }
   ],
   "source": [
    "\n",
    "preds = learner.predict(test_ds, horizon = None, samples = 1, include_all_training = True).reshape(-1)"
   ]
  },
  {
   "cell_type": "code",
   "execution_count": null,
   "id": "d137603b",
   "metadata": {
    "ExecuteTime": {
     "start_time": "2022-11-07T07:58:56.380Z"
    }
   },
   "outputs": [
    {
     "name": "stdout",
     "output_type": "stream",
     "text": [
      "> \u001b[0;32m/Users/mikechen/anaconda3/envs/auto-pytorch/lib/python3.8/site-packages/tensorflow/python/framework/ops.py\u001b[0m(7209)\u001b[0;36mraise_from_not_ok_status\u001b[0;34m()\u001b[0m\n",
      "\u001b[0;32m   7207 \u001b[0;31m\u001b[0;32mdef\u001b[0m \u001b[0mraise_from_not_ok_status\u001b[0m\u001b[0;34m(\u001b[0m\u001b[0me\u001b[0m\u001b[0;34m,\u001b[0m \u001b[0mname\u001b[0m\u001b[0;34m)\u001b[0m\u001b[0;34m:\u001b[0m\u001b[0;34m\u001b[0m\u001b[0;34m\u001b[0m\u001b[0m\n",
      "\u001b[0m\u001b[0;32m   7208 \u001b[0;31m  \u001b[0me\u001b[0m\u001b[0;34m.\u001b[0m\u001b[0mmessage\u001b[0m \u001b[0;34m+=\u001b[0m \u001b[0;34m(\u001b[0m\u001b[0;34m\" name: \"\u001b[0m \u001b[0;34m+\u001b[0m \u001b[0mname\u001b[0m \u001b[0;32mif\u001b[0m \u001b[0mname\u001b[0m \u001b[0;32mis\u001b[0m \u001b[0;32mnot\u001b[0m \u001b[0;32mNone\u001b[0m \u001b[0;32melse\u001b[0m \u001b[0;34m\"\"\u001b[0m\u001b[0;34m)\u001b[0m\u001b[0;34m\u001b[0m\u001b[0;34m\u001b[0m\u001b[0m\n",
      "\u001b[0m\u001b[0;32m-> 7209 \u001b[0;31m  \u001b[0;32mraise\u001b[0m \u001b[0mcore\u001b[0m\u001b[0;34m.\u001b[0m\u001b[0m_status_to_exception\u001b[0m\u001b[0;34m(\u001b[0m\u001b[0me\u001b[0m\u001b[0;34m)\u001b[0m \u001b[0;32mfrom\u001b[0m \u001b[0;32mNone\u001b[0m  \u001b[0;31m# pylint: disable=protected-access\u001b[0m\u001b[0;34m\u001b[0m\u001b[0;34m\u001b[0m\u001b[0m\n",
      "\u001b[0m\u001b[0;32m   7210 \u001b[0;31m\u001b[0;34m\u001b[0m\u001b[0m\n",
      "\u001b[0m\u001b[0;32m   7211 \u001b[0;31m\u001b[0;34m\u001b[0m\u001b[0m\n",
      "\u001b[0m\n",
      "ipdb> u\n",
      "> \u001b[0;32m/Users/mikechen/anaconda3/envs/auto-pytorch/lib/python3.8/site-packages/tensorflow/python/ops/gen_array_ops.py\u001b[0m(8617)\u001b[0;36mresource_strided_slice_assign\u001b[0;34m()\u001b[0m\n",
      "\u001b[0;32m   8615 \u001b[0;31m      \u001b[0;32mreturn\u001b[0m \u001b[0m_result\u001b[0m\u001b[0;34m\u001b[0m\u001b[0;34m\u001b[0m\u001b[0m\n",
      "\u001b[0m\u001b[0;32m   8616 \u001b[0;31m    \u001b[0;32mexcept\u001b[0m \u001b[0m_core\u001b[0m\u001b[0;34m.\u001b[0m\u001b[0m_NotOkStatusException\u001b[0m \u001b[0;32mas\u001b[0m \u001b[0me\u001b[0m\u001b[0;34m:\u001b[0m\u001b[0;34m\u001b[0m\u001b[0;34m\u001b[0m\u001b[0m\n",
      "\u001b[0m\u001b[0;32m-> 8617 \u001b[0;31m      \u001b[0m_ops\u001b[0m\u001b[0;34m.\u001b[0m\u001b[0mraise_from_not_ok_status\u001b[0m\u001b[0;34m(\u001b[0m\u001b[0me\u001b[0m\u001b[0;34m,\u001b[0m \u001b[0mname\u001b[0m\u001b[0;34m)\u001b[0m\u001b[0;34m\u001b[0m\u001b[0;34m\u001b[0m\u001b[0m\n",
      "\u001b[0m\u001b[0;32m   8618 \u001b[0;31m    \u001b[0;32mexcept\u001b[0m \u001b[0m_core\u001b[0m\u001b[0;34m.\u001b[0m\u001b[0m_FallbackException\u001b[0m\u001b[0;34m:\u001b[0m\u001b[0;34m\u001b[0m\u001b[0;34m\u001b[0m\u001b[0m\n",
      "\u001b[0m\u001b[0;32m   8619 \u001b[0;31m      \u001b[0;32mpass\u001b[0m\u001b[0;34m\u001b[0m\u001b[0;34m\u001b[0m\u001b[0m\n",
      "\u001b[0m\n",
      "ipdb> u\n",
      "> \u001b[0;32m/Users/mikechen/anaconda3/envs/auto-pytorch/lib/python3.8/site-packages/tensorflow/python/ops/resource_variable_ops.py\u001b[0m(1433)\u001b[0;36m_strided_slice_assign\u001b[0;34m()\u001b[0m\n",
      "\u001b[0;32m   1431 \u001b[0;31m    \u001b[0;32mwith\u001b[0m \u001b[0m_handle_graph\u001b[0m\u001b[0;34m(\u001b[0m\u001b[0mself\u001b[0m\u001b[0;34m.\u001b[0m\u001b[0mhandle\u001b[0m\u001b[0;34m)\u001b[0m\u001b[0;34m,\u001b[0m \u001b[0mself\u001b[0m\u001b[0;34m.\u001b[0m\u001b[0m_assign_dependencies\u001b[0m\u001b[0;34m(\u001b[0m\u001b[0;34m)\u001b[0m\u001b[0;34m:\u001b[0m\u001b[0;34m\u001b[0m\u001b[0;34m\u001b[0m\u001b[0m\n",
      "\u001b[0m\u001b[0;32m   1432 \u001b[0;31m      return self._lazy_read(\n",
      "\u001b[0m\u001b[0;32m-> 1433 \u001b[0;31m          gen_array_ops.resource_strided_slice_assign(\n",
      "\u001b[0m\u001b[0;32m   1434 \u001b[0;31m              \u001b[0mref\u001b[0m\u001b[0;34m=\u001b[0m\u001b[0mself\u001b[0m\u001b[0;34m.\u001b[0m\u001b[0mhandle\u001b[0m\u001b[0;34m,\u001b[0m\u001b[0;34m\u001b[0m\u001b[0;34m\u001b[0m\u001b[0m\n",
      "\u001b[0m\u001b[0;32m   1435 \u001b[0;31m              \u001b[0mbegin\u001b[0m\u001b[0;34m=\u001b[0m\u001b[0mbegin\u001b[0m\u001b[0;34m,\u001b[0m\u001b[0;34m\u001b[0m\u001b[0;34m\u001b[0m\u001b[0m\n",
      "\u001b[0m\n",
      "ipdb> u\n",
      "> \u001b[0;32m/Users/mikechen/anaconda3/envs/auto-pytorch/lib/python3.8/site-packages/tensorflow/python/ops/array_ops.py\u001b[0m(1290)\u001b[0;36massign\u001b[0;34m()\u001b[0m\n",
      "\u001b[0;32m   1288 \u001b[0;31m        \u001b[0mname\u001b[0m \u001b[0;34m=\u001b[0m \u001b[0mparent_name\u001b[0m \u001b[0;34m+\u001b[0m \u001b[0;34m\"_assign\"\u001b[0m\u001b[0;34m\u001b[0m\u001b[0;34m\u001b[0m\u001b[0m\n",
      "\u001b[0m\u001b[0;32m   1289 \u001b[0;31m\u001b[0;34m\u001b[0m\u001b[0m\n",
      "\u001b[0m\u001b[0;32m-> 1290 \u001b[0;31m      return var._strided_slice_assign(\n",
      "\u001b[0m\u001b[0;32m   1291 \u001b[0;31m          \u001b[0mbegin\u001b[0m\u001b[0;34m=\u001b[0m\u001b[0mbegin\u001b[0m\u001b[0;34m,\u001b[0m\u001b[0;34m\u001b[0m\u001b[0;34m\u001b[0m\u001b[0m\n",
      "\u001b[0m\u001b[0;32m   1292 \u001b[0;31m          \u001b[0mend\u001b[0m\u001b[0;34m=\u001b[0m\u001b[0mend\u001b[0m\u001b[0;34m,\u001b[0m\u001b[0;34m\u001b[0m\u001b[0;34m\u001b[0m\u001b[0m\n",
      "\u001b[0m\n",
      "ipdb> u\n",
      "> \u001b[0;32m/Users/mikechen/PycharmProjects/deepar_tensorflow/deepar/model/learner.py\u001b[0m(451)\u001b[0;36m_add_prev_target\u001b[0;34m()\u001b[0m\n",
      "\u001b[0;32m    449 \u001b[0;31m            \u001b[0mdynamically\u001b[0m \u001b[0mgenerated\u001b[0m \u001b[0mlast\u001b[0m \u001b[0mtarget\u001b[0m\u001b[0;34m\u001b[0m\u001b[0;34m\u001b[0m\u001b[0m\n",
      "\u001b[0m\u001b[0;32m    450 \u001b[0;31m        \"\"\"\n",
      "\u001b[0m\u001b[0;32m--> 451 \u001b[0;31m        \u001b[0mx_test_new\u001b[0m \u001b[0;34m=\u001b[0m \u001b[0mx_test\u001b[0m\u001b[0;34m[\u001b[0m\u001b[0;36m0\u001b[0m\u001b[0;34m]\u001b[0m\u001b[0;34m[\u001b[0m\u001b[0;34m:\u001b[0m\u001b[0;34m,\u001b[0m \u001b[0;34m:\u001b[0m\u001b[0;36m1\u001b[0m\u001b[0;34m,\u001b[0m \u001b[0;34m-\u001b[0m\u001b[0;36m1\u001b[0m\u001b[0;34m:\u001b[0m\u001b[0;34m]\u001b[0m\u001b[0;34m.\u001b[0m\u001b[0massign\u001b[0m\u001b[0;34m(\u001b[0m\u001b[0mprev_target\u001b[0m\u001b[0;34m)\u001b[0m\u001b[0;34m\u001b[0m\u001b[0;34m\u001b[0m\u001b[0m\n",
      "\u001b[0m\u001b[0;32m    452 \u001b[0;31m        \u001b[0;32mreturn\u001b[0m \u001b[0;34m[\u001b[0m\u001b[0mx_test_new\u001b[0m\u001b[0;34m,\u001b[0m \u001b[0mx_test\u001b[0m\u001b[0;34m[\u001b[0m\u001b[0;36m1\u001b[0m\u001b[0;34m]\u001b[0m\u001b[0;34m]\u001b[0m\u001b[0;34m\u001b[0m\u001b[0;34m\u001b[0m\u001b[0m\n",
      "\u001b[0m\u001b[0;32m    453 \u001b[0;31m\u001b[0;34m\u001b[0m\u001b[0m\n",
      "\u001b[0m\n",
      "ipdb> prev_target\n",
      "<tf.Tensor: shape=(16, 1, 1), dtype=float32, numpy=\n",
      "array([[[-1.1810005]],\n",
      "\n",
      "       [[-1.1810005]],\n",
      "\n",
      "       [[-1.1810005]],\n",
      "\n",
      "       [[-1.1810005]],\n",
      "\n",
      "       [[-1.1810005]],\n",
      "\n",
      "       [[-1.1810005]],\n",
      "\n",
      "       [[-1.1810005]],\n",
      "\n",
      "       [[-1.1810005]],\n",
      "\n",
      "       [[-1.1810005]],\n",
      "\n",
      "       [[-1.1810005]],\n",
      "\n",
      "       [[-1.1810005]],\n",
      "\n",
      "       [[-1.1810005]],\n",
      "\n",
      "       [[-1.1810005]],\n",
      "\n",
      "       [[-1.1810005]],\n",
      "\n",
      "       [[-1.1810005]],\n",
      "\n",
      "       [[-1.1810005]]], dtype=float32)>\n",
      "ipdb> prev_target.shape\n",
      "TensorShape([16, 1, 1])\n",
      "ipdb> x_test_new.shape\n",
      "*** NameError: name 'x_test_new' is not defined\n",
      "ipdb> x_test.shape\n",
      "*** AttributeError: 'list' object has no attribute 'shape'\n",
      "ipdb> len(x_test)\n",
      "2\n",
      "ipdb> x_test[0]\n",
      "<tf.Variable 'Variable:0' shape=(16, 20, 11) dtype=float32, numpy=\n",
      "array([[[-4.3229389e-01,  1.2792570e+02,  0.0000000e+00, ...,\n",
      "          0.0000000e+00,  2.6035054e+00,  8.3904110e-02],\n",
      "        [ 2.6344159e-01,  1.2920326e+02,  0.0000000e+00, ...,\n",
      "          0.0000000e+00,  2.6250219e+00,  8.3904110e-02],\n",
      "        [ 4.6958545e-01,  1.1940857e+02,  0.0000000e+00, ...,\n",
      "          0.0000000e+00,  2.6465387e+00,  8.3904110e-02],\n",
      "        ...,\n",
      "        [-4.8382986e-01,  1.8222240e+02,  0.0000000e+00, ...,\n",
      "          0.0000000e+00,  2.9692872e+00,  8.3904110e-02],\n",
      "        [-1.1280293e+00,  2.0430305e+02,  0.0000000e+00, ...,\n",
      "          0.0000000e+00,  2.9908037e+00,  8.3904110e-02],\n",
      "        [-1.4887811e+00,  2.3632747e+02,  0.0000000e+00, ...,\n",
      "          0.0000000e+00,  3.0123203e+00,  8.3904110e-02]],\n",
      "\n",
      "       [[-4.3229389e-01,  1.2792570e+02,  0.0000000e+00, ...,\n",
      "          0.0000000e+00,  2.6035054e+00,  8.3904110e-02],\n",
      "        [ 2.6344159e-01,  1.2920326e+02,  0.0000000e+00, ...,\n",
      "          0.0000000e+00,  2.6250219e+00,  8.3904110e-02],\n",
      "        [ 4.6958545e-01,  1.1940857e+02,  0.0000000e+00, ...,\n",
      "          0.0000000e+00,  2.6465387e+00,  8.3904110e-02],\n",
      "        ...,\n",
      "        [-4.8382986e-01,  1.8222240e+02,  0.0000000e+00, ...,\n",
      "          0.0000000e+00,  2.9692872e+00,  8.3904110e-02],\n",
      "        [-1.1280293e+00,  2.0430305e+02,  0.0000000e+00, ...,\n",
      "          0.0000000e+00,  2.9908037e+00,  8.3904110e-02],\n",
      "        [-1.4887811e+00,  2.3632747e+02,  0.0000000e+00, ...,\n",
      "          0.0000000e+00,  3.0123203e+00,  8.3904110e-02]],\n",
      "\n",
      "       [[-4.3229389e-01,  1.2792570e+02,  0.0000000e+00, ...,\n",
      "          0.0000000e+00,  2.6035054e+00,  8.3904110e-02],\n",
      "        [ 2.6344159e-01,  1.2920326e+02,  0.0000000e+00, ...,\n",
      "          0.0000000e+00,  2.6250219e+00,  8.3904110e-02],\n",
      "        [ 4.6958545e-01,  1.1940857e+02,  0.0000000e+00, ...,\n",
      "          0.0000000e+00,  2.6465387e+00,  8.3904110e-02],\n",
      "        ...,\n",
      "        [-4.8382986e-01,  1.8222240e+02,  0.0000000e+00, ...,\n",
      "          0.0000000e+00,  2.9692872e+00,  8.3904110e-02],\n",
      "        [-1.1280293e+00,  2.0430305e+02,  0.0000000e+00, ...,\n",
      "          0.0000000e+00,  2.9908037e+00,  8.3904110e-02],\n",
      "        [-1.4887811e+00,  2.3632747e+02,  0.0000000e+00, ...,\n",
      "          0.0000000e+00,  3.0123203e+00,  8.3904110e-02]],\n",
      "\n",
      "       ...,\n",
      "\n",
      "       [[-4.3229389e-01,  1.2792570e+02,  0.0000000e+00, ...,\n",
      "          0.0000000e+00,  2.6035054e+00,  8.3904110e-02],\n",
      "        [ 2.6344159e-01,  1.2920326e+02,  0.0000000e+00, ...,\n",
      "          0.0000000e+00,  2.6250219e+00,  8.3904110e-02],\n",
      "        [ 4.6958545e-01,  1.1940857e+02,  0.0000000e+00, ...,\n",
      "          0.0000000e+00,  2.6465387e+00,  8.3904110e-02],\n",
      "        ...,\n",
      "        [-4.8382986e-01,  1.8222240e+02,  0.0000000e+00, ...,\n",
      "          0.0000000e+00,  2.9692872e+00,  8.3904110e-02],\n",
      "        [-1.1280293e+00,  2.0430305e+02,  0.0000000e+00, ...,\n",
      "          0.0000000e+00,  2.9908037e+00,  8.3904110e-02],\n",
      "        [-1.4887811e+00,  2.3632747e+02,  0.0000000e+00, ...,\n",
      "          0.0000000e+00,  3.0123203e+00,  8.3904110e-02]],\n",
      "\n",
      "       [[-4.3229389e-01,  1.2792570e+02,  0.0000000e+00, ...,\n",
      "          0.0000000e+00,  2.6035054e+00,  8.3904110e-02],\n",
      "        [ 2.6344159e-01,  1.2920326e+02,  0.0000000e+00, ...,\n",
      "          0.0000000e+00,  2.6250219e+00,  8.3904110e-02],\n",
      "        [ 4.6958545e-01,  1.1940857e+02,  0.0000000e+00, ...,\n",
      "          0.0000000e+00,  2.6465387e+00,  8.3904110e-02],\n",
      "        ...,\n",
      "        [-4.8382986e-01,  1.8222240e+02,  0.0000000e+00, ...,\n",
      "          0.0000000e+00,  2.9692872e+00,  8.3904110e-02],\n",
      "        [-1.1280293e+00,  2.0430305e+02,  0.0000000e+00, ...,\n",
      "          0.0000000e+00,  2.9908037e+00,  8.3904110e-02],\n",
      "        [-1.4887811e+00,  2.3632747e+02,  0.0000000e+00, ...,\n",
      "          0.0000000e+00,  3.0123203e+00,  8.3904110e-02]],\n",
      "\n",
      "       [[-4.3229389e-01,  1.2792570e+02,  0.0000000e+00, ...,\n",
      "          0.0000000e+00,  2.6035054e+00,  8.3904110e-02],\n",
      "        [ 2.6344159e-01,  1.2920326e+02,  0.0000000e+00, ...,\n",
      "          0.0000000e+00,  2.6250219e+00,  8.3904110e-02],\n",
      "        [ 4.6958545e-01,  1.1940857e+02,  0.0000000e+00, ...,\n",
      "          0.0000000e+00,  2.6465387e+00,  8.3904110e-02],\n",
      "        ...,\n",
      "        [-4.8382986e-01,  1.8222240e+02,  0.0000000e+00, ...,\n",
      "          0.0000000e+00,  2.9692872e+00,  8.3904110e-02],\n",
      "        [-1.1280293e+00,  2.0430305e+02,  0.0000000e+00, ...,\n",
      "          0.0000000e+00,  2.9908037e+00,  8.3904110e-02],\n",
      "        [-1.4887811e+00,  2.3632747e+02,  0.0000000e+00, ...,\n",
      "          0.0000000e+00,  3.0123203e+00,  8.3904110e-02]]], dtype=float32)>\n"
     ]
    },
    {
     "name": "stdout",
     "output_type": "stream",
     "text": [
      "ipdb> x_test[0].shape\n",
      "TensorShape([16, 20, 11])\n",
      "ipdb> x_test[0][:, :1, -1:].shape\n",
      "TensorShape([16, 1, 1])\n",
      "ipdb> x_test[0][:, :1, -1:].assign(prev_target)\n",
      "*** tensorflow.python.framework.errors_impl.InvalidArgumentError: Cannot assign a device for operation ResourceStridedSliceAssign: Could not satisfy explicit device specification '/job:localhost/replica:0/task:0/device:GPU:0' because no supported kernel for GPU devices is available.\n",
      "Colocation Debug Info:\n",
      "Colocation group had the following types and supported devices: \n",
      "Root Member(assigned_device_name_index_=1 requested_device_name_='/job:localhost/replica:0/task:0/device:GPU:0' assigned_device_name_='/job:localhost/replica:0/task:0/device:GPU:0' resource_device_name_='/job:localhost/replica:0/task:0/device:GPU:0' supported_device_types_=[CPU] possible_devices_=[]\n",
      "ResourceStridedSliceAssign: CPU \n",
      "_Arg: GPU CPU \n",
      "\n",
      "Colocation members, user-requested devices, and framework assigned devices, if any:\n",
      "  ref (_Arg)  framework assigned device=/job:localhost/replica:0/task:0/device:GPU:0\n",
      "  ResourceStridedSliceAssign (ResourceStridedSliceAssign) /job:localhost/replica:0/task:0/device:GPU:0\n",
      "\n",
      "Op: ResourceStridedSliceAssign\n",
      "Node attrs: T=DT_FLOAT, Index=DT_INT32, shrink_axis_mask=0, begin_mask=3, ellipsis_mask=0, new_axis_mask=0, end_mask=5\n",
      "Registered kernels:\n",
      "  device='XLA_CPU_JIT'; Index in [DT_INT32, DT_INT64]; T in [DT_FLOAT, DT_DOUBLE, DT_INT32, DT_UINT8, DT_INT16, 16005131165644881776, DT_UINT16, DT_COMPLEX128, DT_HALF, DT_UINT32, DT_UINT64]\n",
      "  device='DEFAULT'; T in [DT_INT32]\n",
      "  device='CPU'; T in [DT_UINT64]\n",
      "  device='CPU'; T in [DT_INT64]\n",
      "  device='CPU'; T in [DT_UINT32]\n",
      "  device='CPU'; T in [DT_UINT16]\n",
      "  device='CPU'; T in [DT_INT16]\n",
      "  device='CPU'; T in [DT_UINT8]\n",
      "  device='CPU'; T in [DT_INT8]\n",
      "  device='CPU'; T in [DT_INT32]\n",
      "  device='CPU'; T in [DT_HALF]\n",
      "  device='CPU'; T in [DT_BFLOAT16]\n",
      "  device='CPU'; T in [DT_FLOAT]\n",
      "  device='CPU'; T in [DT_DOUBLE]\n",
      "  device='CPU'; T in [DT_COMPLEX64]\n",
      "  device='CPU'; T in [DT_COMPLEX128]\n",
      "  device='CPU'; T in [DT_BOOL]\n",
      "  device='CPU'; T in [DT_STRING]\n",
      "  device='CPU'; T in [DT_RESOURCE]\n",
      "  device='CPU'; T in [DT_VARIANT]\n",
      "  device='CPU'; T in [DT_QINT8]\n",
      "  device='CPU'; T in [DT_QUINT8]\n",
      "  device='CPU'; T in [DT_QINT32]\n",
      "\n",
      "\t [[{{node ResourceStridedSliceAssign}}]] [Op:ResourceStridedSliceAssign] name: strided_slice/_assign\n"
     ]
    }
   ],
   "source": [
    "%debug"
   ]
  },
  {
   "cell_type": "code",
   "execution_count": 19,
   "id": "7265405f",
   "metadata": {
    "ExecuteTime": {
     "end_time": "2022-11-06T07:27:19.305027Z",
     "start_time": "2022-11-06T07:27:18.922101Z"
    }
   },
   "outputs": [],
   "source": [
    "temp = pd.read_parquet('../cupid/sample_data/data/data.parquet')\n"
   ]
  },
  {
   "cell_type": "code",
   "execution_count": 20,
   "id": "f7445739",
   "metadata": {
    "ExecuteTime": {
     "end_time": "2022-11-06T07:27:19.747278Z",
     "start_time": "2022-11-06T07:27:19.680794Z"
    }
   },
   "outputs": [],
   "source": [
    "train_df = temp[temp['date']<='2021-08-19']\n",
    "test_df = temp[temp['date']>='2021-08-20']"
   ]
  },
  {
   "cell_type": "code",
   "execution_count": 24,
   "id": "d996bb5d",
   "metadata": {
    "ExecuteTime": {
     "end_time": "2022-11-06T07:28:42.219881Z",
     "start_time": "2022-11-06T07:28:42.151642Z"
    }
   },
   "outputs": [
    {
     "data": {
      "text/plain": [
       "series\n",
       "0     596\n",
       "1     596\n",
       "2     596\n",
       "3     596\n",
       "4     596\n",
       "     ... \n",
       "95    596\n",
       "96    596\n",
       "97    596\n",
       "98    596\n",
       "99    596\n",
       "Name: _age, Length: 100, dtype: int64"
      ]
     },
     "execution_count": 24,
     "metadata": {},
     "output_type": "execute_result"
    }
   ],
   "source": [
    "train_df['_age'] = train_df.groupby(['series']).cumcount()\n",
    "train_df.groupby(['series'])['_age'].agg('max')"
   ]
  },
  {
   "cell_type": "code",
   "execution_count": 23,
   "id": "12eff197",
   "metadata": {
    "ExecuteTime": {
     "end_time": "2022-11-06T07:27:45.307440Z",
     "start_time": "2022-11-06T07:27:45.237473Z"
    }
   },
   "outputs": [
    {
     "data": {
      "text/html": [
       "<div>\n",
       "<style scoped>\n",
       "    .dataframe tbody tr th:only-of-type {\n",
       "        vertical-align: middle;\n",
       "    }\n",
       "\n",
       "    .dataframe tbody tr th {\n",
       "        vertical-align: top;\n",
       "    }\n",
       "\n",
       "    .dataframe thead th {\n",
       "        text-align: right;\n",
       "    }\n",
       "</style>\n",
       "<table border=\"1\" class=\"dataframe\">\n",
       "  <thead>\n",
       "    <tr style=\"text-align: right;\">\n",
       "      <th></th>\n",
       "      <th>series</th>\n",
       "      <th>date</th>\n",
       "      <th>static</th>\n",
       "      <th>value</th>\n",
       "    </tr>\n",
       "  </thead>\n",
       "  <tbody>\n",
       "    <tr>\n",
       "      <th>0</th>\n",
       "      <td>0</td>\n",
       "      <td>2020-01-01</td>\n",
       "      <td>2</td>\n",
       "      <td>-0.000000</td>\n",
       "    </tr>\n",
       "    <tr>\n",
       "      <th>1</th>\n",
       "      <td>0</td>\n",
       "      <td>2020-01-02</td>\n",
       "      <td>2</td>\n",
       "      <td>-0.031072</td>\n",
       "    </tr>\n",
       "    <tr>\n",
       "      <th>2</th>\n",
       "      <td>0</td>\n",
       "      <td>2020-01-03</td>\n",
       "      <td>2</td>\n",
       "      <td>-0.065781</td>\n",
       "    </tr>\n",
       "    <tr>\n",
       "      <th>3</th>\n",
       "      <td>0</td>\n",
       "      <td>2020-01-04</td>\n",
       "      <td>2</td>\n",
       "      <td>-0.098203</td>\n",
       "    </tr>\n",
       "    <tr>\n",
       "      <th>4</th>\n",
       "      <td>0</td>\n",
       "      <td>2020-01-05</td>\n",
       "      <td>2</td>\n",
       "      <td>-0.122926</td>\n",
       "    </tr>\n",
       "    <tr>\n",
       "      <th>...</th>\n",
       "      <td>...</td>\n",
       "      <td>...</td>\n",
       "      <td>...</td>\n",
       "      <td>...</td>\n",
       "    </tr>\n",
       "    <tr>\n",
       "      <th>59992</th>\n",
       "      <td>99</td>\n",
       "      <td>2021-08-15</td>\n",
       "      <td>2</td>\n",
       "      <td>-5.170347</td>\n",
       "    </tr>\n",
       "    <tr>\n",
       "      <th>59993</th>\n",
       "      <td>99</td>\n",
       "      <td>2021-08-16</td>\n",
       "      <td>2</td>\n",
       "      <td>-5.492258</td>\n",
       "    </tr>\n",
       "    <tr>\n",
       "      <th>59994</th>\n",
       "      <td>99</td>\n",
       "      <td>2021-08-17</td>\n",
       "      <td>2</td>\n",
       "      <td>-4.824520</td>\n",
       "    </tr>\n",
       "    <tr>\n",
       "      <th>59995</th>\n",
       "      <td>99</td>\n",
       "      <td>2021-08-18</td>\n",
       "      <td>2</td>\n",
       "      <td>-5.740330</td>\n",
       "    </tr>\n",
       "    <tr>\n",
       "      <th>59996</th>\n",
       "      <td>99</td>\n",
       "      <td>2021-08-19</td>\n",
       "      <td>2</td>\n",
       "      <td>-5.601827</td>\n",
       "    </tr>\n",
       "  </tbody>\n",
       "</table>\n",
       "<p>59700 rows × 4 columns</p>\n",
       "</div>"
      ],
      "text/plain": [
       "       series       date  static     value\n",
       "0           0 2020-01-01       2 -0.000000\n",
       "1           0 2020-01-02       2 -0.031072\n",
       "2           0 2020-01-03       2 -0.065781\n",
       "3           0 2020-01-04       2 -0.098203\n",
       "4           0 2020-01-05       2 -0.122926\n",
       "...       ...        ...     ...       ...\n",
       "59992      99 2021-08-15       2 -5.170347\n",
       "59993      99 2021-08-16       2 -5.492258\n",
       "59994      99 2021-08-17       2 -4.824520\n",
       "59995      99 2021-08-18       2 -5.740330\n",
       "59996      99 2021-08-19       2 -5.601827\n",
       "\n",
       "[59700 rows x 4 columns]"
      ]
     },
     "execution_count": 23,
     "metadata": {},
     "output_type": "execute_result"
    }
   ],
   "source": [
    "train_df"
   ]
  },
  {
   "cell_type": "code",
   "execution_count": null,
   "id": "c6acec6d",
   "metadata": {
    "ExecuteTime": {
     "end_time": "2022-11-06T05:38:12.467353Z",
     "start_time": "2022-11-06T05:38:12.467346Z"
    }
   },
   "outputs": [],
   "source": [
    "train_ds = TimeSeriesTrain(train_df, target_idx = 3, timestamp_idx = 1,grouping_idx =0,freq='D', count_data=False)"
   ]
  },
  {
   "cell_type": "code",
   "execution_count": null,
   "id": "baca182f",
   "metadata": {
    "ExecuteTime": {
     "end_time": "2022-11-06T05:38:12.468146Z",
     "start_time": "2022-11-06T05:38:12.468140Z"
    }
   },
   "outputs": [],
   "source": [
    "train_ds._data"
   ]
  },
  {
   "cell_type": "code",
   "execution_count": null,
   "id": "72476eff",
   "metadata": {
    "ExecuteTime": {
     "end_time": "2022-11-06T05:38:12.468967Z",
     "start_time": "2022-11-06T05:38:12.468961Z"
    }
   },
   "outputs": [],
   "source": [
    "train_ds._data[\"_hour_of_day\"].unique()"
   ]
  },
  {
   "cell_type": "code",
   "execution_count": null,
   "id": "0a4946b6",
   "metadata": {
    "ExecuteTime": {
     "end_time": "2022-11-06T05:38:12.469522Z",
     "start_time": "2022-11-06T05:38:12.469516Z"
    }
   },
   "outputs": [],
   "source": [
    "train_ds._data.shape[1]"
   ]
  },
  {
   "cell_type": "code",
   "execution_count": null,
   "id": "fcecedbc",
   "metadata": {
    "ExecuteTime": {
     "end_time": "2022-11-06T05:38:12.470197Z",
     "start_time": "2022-11-06T05:38:12.470191Z"
    }
   },
   "outputs": [],
   "source": [
    "learner = DeepARLearner(train_ds, verbose=1)"
   ]
  },
  {
   "cell_type": "code",
   "execution_count": null,
   "id": "47254139",
   "metadata": {
    "ExecuteTime": {
     "end_time": "2022-11-06T05:38:12.470706Z",
     "start_time": "2022-11-06T05:38:12.470701Z"
    }
   },
   "outputs": [],
   "source": [
    "import os\n",
    "best_metric, epoch = learner.fit(epochs=10,\n",
    "                stopping_patience=3,\n",
    "                early_stopping=True,\n",
    "                checkpoint_dir=os.path.join(\"./checkpoints\"))"
   ]
  },
  {
   "cell_type": "code",
   "execution_count": null,
   "id": "0de71947",
   "metadata": {
    "ExecuteTime": {
     "end_time": "2022-11-06T05:38:12.471290Z",
     "start_time": "2022-11-06T05:38:12.471285Z"
    }
   },
   "outputs": [],
   "source": [
    "epoch"
   ]
  },
  {
   "cell_type": "code",
   "execution_count": null,
   "id": "76d6b93a",
   "metadata": {
    "ExecuteTime": {
     "end_time": "2022-11-06T05:38:12.471997Z",
     "start_time": "2022-11-06T05:38:12.471992Z"
    }
   },
   "outputs": [],
   "source": [
    "test_ds = TimeSeriesTest(train_ds, test_df, target_idx = 3)"
   ]
  },
  {
   "cell_type": "code",
   "execution_count": null,
   "id": "9234bd71",
   "metadata": {
    "ExecuteTime": {
     "end_time": "2022-11-06T05:38:12.472873Z",
     "start_time": "2022-11-06T05:38:12.472866Z"
    }
   },
   "outputs": [],
   "source": [
    "preds = learner.predict(test_ds,\n",
    "                        horizon=None,\n",
    "                        samples=1,\n",
    "                        include_all_training=True).reshape(-1)"
   ]
  },
  {
   "cell_type": "code",
   "execution_count": null,
   "id": "c3d471ca",
   "metadata": {
    "ExecuteTime": {
     "end_time": "2022-11-06T05:38:12.473426Z",
     "start_time": "2022-11-06T05:38:12.473419Z"
    }
   },
   "outputs": [],
   "source": [
    "import numpy as np\n",
    "np.random.choice(train_ds._val_data[train_ds._grouping_name].unique(), 16)"
   ]
  },
  {
   "cell_type": "code",
   "execution_count": null,
   "id": "ff11999c",
   "metadata": {
    "ExecuteTime": {
     "end_time": "2022-11-06T05:38:12.473862Z",
     "start_time": "2022-11-06T05:38:12.473857Z"
    }
   },
   "outputs": [],
   "source": [
    "train_ds._val_data[train_ds._grouping_name].unique()"
   ]
  },
  {
   "cell_type": "code",
   "execution_count": null,
   "id": "d2d1e105",
   "metadata": {
    "ExecuteTime": {
     "end_time": "2022-11-06T05:38:12.474508Z",
     "start_time": "2022-11-06T05:38:12.474503Z"
    }
   },
   "outputs": [],
   "source": [
    "train_ds._grouping_name"
   ]
  },
  {
   "cell_type": "code",
   "execution_count": null,
   "id": "2ca1eaa8",
   "metadata": {
    "ExecuteTime": {
     "end_time": "2022-11-06T05:38:12.475286Z",
     "start_time": "2022-11-06T05:38:12.475280Z"
    }
   },
   "outputs": [],
   "source": [
    "train_ds._val_data"
   ]
  },
  {
   "cell_type": "code",
   "execution_count": null,
   "id": "9140c946",
   "metadata": {},
   "outputs": [],
   "source": []
  }
 ],
 "metadata": {
  "kernelspec": {
   "display_name": "Python 3 (ipykernel)",
   "language": "python",
   "name": "python3"
  },
  "language_info": {
   "codemirror_mode": {
    "name": "ipython",
    "version": 3
   },
   "file_extension": ".py",
   "mimetype": "text/x-python",
   "name": "python",
   "nbconvert_exporter": "python",
   "pygments_lexer": "ipython3",
   "version": "3.8.13"
  }
 },
 "nbformat": 4,
 "nbformat_minor": 5
}
